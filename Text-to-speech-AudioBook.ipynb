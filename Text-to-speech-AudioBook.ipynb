{
 "cells": [
  {
   "cell_type": "code",
   "execution_count": null,
   "id": "facc39b9",
   "metadata": {},
   "outputs": [],
   "source": [
    "#installing our lib using pip!"
   ]
  },
  {
   "cell_type": "code",
   "execution_count": null,
   "id": "44557ee2",
   "metadata": {
    "scrolled": false
   },
   "outputs": [],
   "source": [
    "!pip install pypdf2"
   ]
  },
  {
   "cell_type": "code",
   "execution_count": null,
   "id": "11277e29",
   "metadata": {},
   "outputs": [],
   "source": [
    "!pip install pyttsx3"
   ]
  },
  {
   "cell_type": "code",
   "execution_count": null,
   "id": "f03e3f7d",
   "metadata": {},
   "outputs": [],
   "source": [
    "!pip install PyAudio"
   ]
  },
  {
   "cell_type": "code",
   "execution_count": null,
   "id": "3dfbc44a",
   "metadata": {},
   "outputs": [],
   "source": [
    "!pip install pdfplumber"
   ]
  },
  {
   "cell_type": "code",
   "execution_count": null,
   "id": "b0172d7d",
   "metadata": {},
   "outputs": [],
   "source": [
    "#import librarys\n",
    "import pyttsx3\n",
    "import PyPDF2\n",
    "import pyaudio\n",
    "import pdfplumber"
   ]
  },
  {
   "cell_type": "code",
   "execution_count": null,
   "id": "5fcc921b",
   "metadata": {},
   "outputs": [],
   "source": [
    "#Read the PDF file from our Folder!\n",
    "book = open('what_christmas_is_as_we_grow_older.pdf', 'rb')\n",
    "pdfReader = PyPDF2.PdfFileReader(book)\n",
    "pages = pdfReader.numPages\n",
    "\n",
    "speaker = pyttsx3.init()\n",
    "for num in range(0, pages):\n",
    "    #Read PDF file!\n",
    "    page = pdfReader.getPage(num)\n",
    "    #extractText From each One!\n",
    "    text = page.extractText()\n",
    "    \n",
    "    #Changing voices!\n",
    "    voices = speaker.getProperty('voices')\n",
    "    speaker.setProperty('voice', voices[1].id)\n",
    "    \n",
    "    #Changing speech rate!\n",
    "    speaker.setProperty('rate',170)\n",
    "    \n",
    "    #Speaking text!\n",
    "    speaker.say(text)\n",
    "    speaker.runAndWait()"
   ]
  },
  {
   "cell_type": "code",
   "execution_count": null,
   "id": "9a331496",
   "metadata": {},
   "outputs": [],
   "source": []
  }
 ],
 "metadata": {
  "kernelspec": {
   "display_name": "Python 3 (ipykernel)",
   "language": "python",
   "name": "python3"
  },
  "language_info": {
   "codemirror_mode": {
    "name": "ipython",
    "version": 3
   },
   "file_extension": ".py",
   "mimetype": "text/x-python",
   "name": "python",
   "nbconvert_exporter": "python",
   "pygments_lexer": "ipython3",
   "version": "3.10.8"
  }
 },
 "nbformat": 4,
 "nbformat_minor": 5
}
